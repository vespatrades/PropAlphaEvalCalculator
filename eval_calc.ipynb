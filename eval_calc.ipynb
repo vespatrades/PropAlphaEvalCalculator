{
 "cells": [
  {
   "cell_type": "markdown",
   "id": "28178fd6-fd36-42dc-9c72-a3f7ef5e0b68",
   "metadata": {},
   "source": [
    "Estimate odds of passing a prop eval with trailing drawdown\n",
    "given a single setup with a defined bracket and win percentage.\n",
    "Costs ignored.\n",
    "NOT FINANCIAL ADVICE.\n",
    "DO YOUR OWN RESEARCH.\n",
    "NO GUARANTEE OUR MATH IS CORRECT.\n",
    "RISK DISCLAIMER: https://www.prop-alpha.com/disclaimer"
   ]
  },
  {
   "cell_type": "code",
   "execution_count": null,
   "id": "04420b43-76d3-4fdf-b82f-ffc0ae37d1d5",
   "metadata": {},
   "outputs": [],
   "source": [
    "import subprocess\n",
    "\n",
    "def execute_cli_application(trailing_dd_amount, account_target_amount, stop_width, tp_width, win_pct):\n",
    "  \"\"\"Executes the CLI application and returns the estimated probability of success.\"\"\"\n",
    "  input_values = [str(trailing_dd_amount), str(account_target_amount), str(stop_width), str(tp_width), str(win_pct)]\n",
    "  output = subprocess.check_output([\"python\", \"eval_calc.py\"] + input_values)\n",
    "  win_prob = float(output.decode(\"utf-8\"))\n",
    "  return win_prob\n",
    "\n",
    "# Get the input values from the user.\n",
    "trailing_dd_amount = None\n",
    "while trailing_dd_amount is None:\n",
    "  try:\n",
    "    trailing_dd_amount = float(input(\"Enter Trailing Drawdown Amount in Currency: \"))\n",
    "  except EOFError:\n",
    "    # Exit the program if the user closes the notebook without stopping the program.\n",
    "    print(\"Goodbye!\")\n",
    "    exit()\n",
    "\n",
    "account_target_amount = None\n",
    "while account_target_amount is None:\n",
    "  try:\n",
    "    account_target_amount = float(input(\"Enter Account Target Amount in Currency: \"))\n",
    "  except EOFError:\n",
    "    # Exit the program if the user closes the notebook without stopping the program.\n",
    "    print(\"Goodbye!\")\n",
    "    exit()\n",
    "\n",
    "stop_width = None\n",
    "while stop_width is None:\n",
    "  try:\n",
    "    stop_width = float(input(\"Enter Stop Size in Currency: \"))\n",
    "  except EOFError:\n",
    "    # Exit the program if the user closes the notebook without stopping the program.\n",
    "    print(\"Goodbye!\")\n",
    "    exit()\n",
    "\n",
    "tp_width = None\n",
    "while tp_width is None:\n",
    "  try:\n",
    "    tp_width = float(input(\"Enter Take Profit Size in Currency: \"))\n",
    "  except EOFError:\n",
    "    # Exit the program if the user closes the notebook without stopping the program.\n",
    "    print(\"Goodbye!\")\n",
    "    exit()\n",
    "\n",
    "win_pct = None\n",
    "while win_pct is None:\n",
    "  try:\n",
    "    win_pct = float(input(\"Enter Estimated Win Percent: \"))\n",
    "  except EOFError:\n",
    "    # Exit the program if the user closes the notebook without stopping the program.\n",
    "    print(\"Goodbye!\")\n",
    "    exit()\n",
    "\n",
    "# Execute the CLI application.\n",
    "win_prob = execute_cli_application(trailing_dd_amount, account_target_amount, stop_width, tp_width, win_pct)\n",
    "\n",
    "# Display the estimated probability of success.\n",
    "print(\"Estimated Probability of Success:\", win_prob)"
   ]
  },
  {
   "cell_type": "code",
   "execution_count": null,
   "id": "04c50b32-9afc-451c-a45d-e8cf002459f9",
   "metadata": {},
   "outputs": [],
   "source": []
  }
 ],
 "metadata": {
  "jupytext": {
   "cell_metadata_filter": "-all",
   "main_language": "python",
   "notebook_metadata_filter": "-all"
  },
  "kernelspec": {
   "display_name": "Python 3 (ipykernel)",
   "language": "python",
   "name": "python3"
  },
  "language_info": {
   "codemirror_mode": {
    "name": "ipython",
    "version": 3
   },
   "file_extension": ".py",
   "mimetype": "text/x-python",
   "name": "python",
   "nbconvert_exporter": "python",
   "pygments_lexer": "ipython3",
   "version": "3.9.6"
  }
 },
 "nbformat": 4,
 "nbformat_minor": 5
}
